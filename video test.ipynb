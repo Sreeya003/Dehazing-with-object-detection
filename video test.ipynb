{
 "cells": [
  {
   "cell_type": "code",
   "execution_count": 27,
   "id": "e0bc684f",
   "metadata": {},
   "outputs": [
    {
     "name": "stdout",
     "output_type": "stream",
     "text": [
      "Average SSIM: 0.24056862249771366\n"
     ]
    }
   ],
   "source": [
    "from skimage.metrics import structural_similarity as ssim\n",
    "import cv2\n",
    "import numpy as np\n",
    "\n",
    "# Load reference clear video and the dehazed video\n",
    "reference_video = cv2.VideoCapture('test.mp4')\n",
    "dehazed_video = cv2.VideoCapture('ded_output.avi')\n",
    "\n",
    "# Check if videos were opened successfully\n",
    "if not reference_video.isOpened() or not dehazed_video.isOpened():\n",
    "    print(\"Error: Could not open video files.\")\n",
    "else:\n",
    "    # Get total frame counts for both videos\n",
    "    ref_frames = int(reference_video.get(cv2.CAP_PROP_FRAME_COUNT))\n",
    "    dehaze_frames = int(dehazed_video.get(cv2.CAP_PROP_FRAME_COUNT))\n",
    "\n",
    "    # Get the minimum number of frames between the two videos\n",
    "    min_frames = min(ref_frames, dehaze_frames)\n",
    "\n",
    "    # Initialize variables to accumulate SSIM values and count frames\n",
    "    ssim_values = []\n",
    "    frame_count = 0\n",
    "\n",
    "    # Process video frames up to the length of the shortest video\n",
    "    while frame_count < min_frames:\n",
    "        ret_ref, frame_ref = reference_video.read()\n",
    "        ret_dehaze, frame_dehaze = dehazed_video.read()\n",
    "\n",
    "        # Check if frames were read successfully from both videos\n",
    "        if not ret_ref or not ret_dehaze:\n",
    "            print(\"Error: Could not read frames from one or both videos.\")\n",
    "            break\n",
    "\n",
    "        # Remove potential singleton dimensions in frames\n",
    "        frame_ref = np.squeeze(frame_ref)\n",
    "        frame_dehaze = np.squeeze(frame_dehaze)\n",
    "\n",
    "        # Ensure frames are larger than the default SSIM window size (7x7)\n",
    "        frame_ref = cv2.resize(frame_ref, (100, 100))  # Resize frames as needed\n",
    "        frame_dehaze = cv2.resize(frame_dehaze, (100, 100))  # Resize frames as needed\n",
    "\n",
    "        # Calculate the maximum allowable window size based on the smaller side of the frames\n",
    "        max_win_size = min(frame_ref.shape[0], frame_ref.shape[1])\n",
    "\n",
    "        ssim_frame = ssim(frame_ref, frame_dehaze, win_size=min(3, max_win_size), multichannel=True)\n",
    "\n",
    "        ssim_values.append(ssim_frame)\n",
    "\n",
    "        # Increment frame count\n",
    "        frame_count += 1\n",
    "\n",
    "    # Check if frames were processed\n",
    "    if frame_count == 0:\n",
    "        print(\"No frames processed.\")\n",
    "    else:\n",
    "        # Calculate average SSIM if frames were processed\n",
    "        average_ssim = sum(ssim_values) / frame_count\n",
    "        print(f\"Average SSIM: {average_ssim}\")\n",
    "\n",
    "# Release video resources\n",
    "reference_video.release()\n",
    "dehazed_video.release()\n"
   ]
  },
  {
   "cell_type": "code",
   "execution_count": 8,
   "id": "09e8ac33",
   "metadata": {},
   "outputs": [
    {
     "data": {
      "text/plain": [
       "383"
      ]
     },
     "execution_count": 8,
     "metadata": {},
     "output_type": "execute_result"
    }
   ],
   "source": [
    "ref_frames"
   ]
  },
  {
   "cell_type": "code",
   "execution_count": 28,
   "id": "f0b3a6aa",
   "metadata": {},
   "outputs": [
    {
     "name": "stdout",
     "output_type": "stream",
     "text": [
      "SSIM Percentage: 62.03%\n"
     ]
    }
   ],
   "source": [
    "ssim_value = 0.24056862249771366\n",
    "ssim_percentage = ((ssim_value + 1) / 2) * 100\n",
    "print(f\"SSIM Percentage: {ssim_percentage:.2f}%\")\n"
   ]
  }
 ],
 "metadata": {
  "kernelspec": {
   "display_name": "Python 3 (ipykernel)",
   "language": "python",
   "name": "python3"
  },
  "language_info": {
   "codemirror_mode": {
    "name": "ipython",
    "version": 3
   },
   "file_extension": ".py",
   "mimetype": "text/x-python",
   "name": "python",
   "nbconvert_exporter": "python",
   "pygments_lexer": "ipython3",
   "version": "3.11.5"
  }
 },
 "nbformat": 4,
 "nbformat_minor": 5
}
